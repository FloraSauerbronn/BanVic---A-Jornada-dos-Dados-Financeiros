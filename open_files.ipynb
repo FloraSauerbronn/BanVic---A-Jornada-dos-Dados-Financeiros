{
 "cells": [
  {
   "cell_type": "code",
   "execution_count": null,
   "metadata": {},
   "outputs": [],
   "source": [
    "import pandas as pd\n",
    "\n",
    "# Caminho do arquivo CSV\n",
    "caminho_arquivo = 'C:/Users/flora/OneDrive/Documentos/cursos/processos_seletivos/lighthouse/'\n",
    "\n",
    "# Ler o CSV usando o pandas\n",
    "df = pd.read_csv(caminho_arquivo + \"agencias.csv\")\n",
    "#df = pd.read_csv(caminho_arquivo)\n",
    "#df = pd.read_csv(caminho_arquivo)\n",
    "#df = pd.read_csv(caminho_arquivo)\n",
    "#df = pd.read_csv(caminho_arquivo)\n",
    "#df = pd.read_csv(caminho_arquivo)\n",
    "#df = pd.read_csv(caminho_arquivo)\n",
    "#df = pd.read_csv(caminho_arquivo)\n",
    "\n",
    "\n"
   ]
  }
 ],
 "metadata": {
  "language_info": {
   "name": "python"
  }
 },
 "nbformat": 4,
 "nbformat_minor": 2
}
